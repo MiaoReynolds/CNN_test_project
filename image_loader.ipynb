{
 "cells": [
  {
   "cell_type": "markdown",
   "metadata": {},
   "source": [
    "### Import Packages"
   ]
  },
  {
   "cell_type": "code",
   "execution_count": 51,
   "metadata": {
    "scrolled": false
   },
   "outputs": [],
   "source": [
    "from keras.preprocessing.image import ImageDataGenerator\n",
    "import os \n",
    "from matplotlib import pyplot as pt\n",
    "import pandas as pd"
   ]
  },
  {
   "cell_type": "markdown",
   "metadata": {},
   "source": [
    "### Common Parameters"
   ]
  },
  {
   "cell_type": "code",
   "execution_count": 74,
   "metadata": {},
   "outputs": [],
   "source": [
    "batch_size = 32\n",
    "image_size = 150\n",
    "data_img_path = os.path.abspath(os.path.join(os.getcwd(), 'data', 'REFUGE-Training400', 'Training400'))\n",
    "# 这套青光眼的数据中，用来validation和用来test的数据很可能是同一批数据\n",
    "# 这套青光眼的数据的另一个问题是，Training的数据和validation的数据都是400个，training的太少了，用来validation的比例又太多了\n",
    "# validation的答案在data\\REFUGE-Validation400-GT\\Fovea_locations这个文件中\n",
    "\n",
    "valid_img_path = os.path.abspath(os.path.join(os.getcwd(), 'data', 'REFUGE-Validation400'))\n",
    "valid_mask_path = os.path.abspath(os.path.join(os.getcwd(), 'data', 'REFUGE-Validation400-GT'))#validation数据的答案存在这里\n",
    "valid_dataframe=pd.read_csv(valid_mask_path+\"\\Fovea_locations.csv\")\n",
    "valid_dataframe['Glaucoma_Label'] = valid_dataframe['Glaucoma_Label'].astype(str)"
   ]
  },
  {
   "cell_type": "code",
   "execution_count": 75,
   "metadata": {},
   "outputs": [
    {
     "data": {
      "text/html": [
       "<div>\n",
       "<style scoped>\n",
       "    .dataframe tbody tr th:only-of-type {\n",
       "        vertical-align: middle;\n",
       "    }\n",
       "\n",
       "    .dataframe tbody tr th {\n",
       "        vertical-align: top;\n",
       "    }\n",
       "\n",
       "    .dataframe thead th {\n",
       "        text-align: right;\n",
       "    }\n",
       "</style>\n",
       "<table border=\"1\" class=\"dataframe\">\n",
       "  <thead>\n",
       "    <tr style=\"text-align: right;\">\n",
       "      <th></th>\n",
       "      <th>ID</th>\n",
       "      <th>ImgName</th>\n",
       "      <th>Glaucoma_Label</th>\n",
       "      <th>Fovea_X</th>\n",
       "      <th>Fovea_Y</th>\n",
       "    </tr>\n",
       "  </thead>\n",
       "  <tbody>\n",
       "    <tr>\n",
       "      <th>0</th>\n",
       "      <td>1</td>\n",
       "      <td>V0001.jpg</td>\n",
       "      <td>0</td>\n",
       "      <td>1050.07</td>\n",
       "      <td>858.55</td>\n",
       "    </tr>\n",
       "    <tr>\n",
       "      <th>1</th>\n",
       "      <td>2</td>\n",
       "      <td>V0002.jpg</td>\n",
       "      <td>0</td>\n",
       "      <td>1131.07</td>\n",
       "      <td>834.53</td>\n",
       "    </tr>\n",
       "    <tr>\n",
       "      <th>2</th>\n",
       "      <td>3</td>\n",
       "      <td>V0003.jpg</td>\n",
       "      <td>0</td>\n",
       "      <td>867.01</td>\n",
       "      <td>838.64</td>\n",
       "    </tr>\n",
       "    <tr>\n",
       "      <th>3</th>\n",
       "      <td>4</td>\n",
       "      <td>V0004.jpg</td>\n",
       "      <td>0</td>\n",
       "      <td>1113.65</td>\n",
       "      <td>877.35</td>\n",
       "    </tr>\n",
       "    <tr>\n",
       "      <th>4</th>\n",
       "      <td>5</td>\n",
       "      <td>V0005.jpg</td>\n",
       "      <td>0</td>\n",
       "      <td>1138.70</td>\n",
       "      <td>841.77</td>\n",
       "    </tr>\n",
       "    <tr>\n",
       "      <th>...</th>\n",
       "      <td>...</td>\n",
       "      <td>...</td>\n",
       "      <td>...</td>\n",
       "      <td>...</td>\n",
       "      <td>...</td>\n",
       "    </tr>\n",
       "    <tr>\n",
       "      <th>395</th>\n",
       "      <td>396</td>\n",
       "      <td>V0396.jpg</td>\n",
       "      <td>0</td>\n",
       "      <td>1144.06</td>\n",
       "      <td>835.20</td>\n",
       "    </tr>\n",
       "    <tr>\n",
       "      <th>396</th>\n",
       "      <td>397</td>\n",
       "      <td>V0397.jpg</td>\n",
       "      <td>0</td>\n",
       "      <td>1155.05</td>\n",
       "      <td>835.16</td>\n",
       "    </tr>\n",
       "    <tr>\n",
       "      <th>397</th>\n",
       "      <td>398</td>\n",
       "      <td>V0398.jpg</td>\n",
       "      <td>0</td>\n",
       "      <td>1130.76</td>\n",
       "      <td>865.07</td>\n",
       "    </tr>\n",
       "    <tr>\n",
       "      <th>398</th>\n",
       "      <td>399</td>\n",
       "      <td>V0399.jpg</td>\n",
       "      <td>0</td>\n",
       "      <td>1032.00</td>\n",
       "      <td>999.50</td>\n",
       "    </tr>\n",
       "    <tr>\n",
       "      <th>399</th>\n",
       "      <td>400</td>\n",
       "      <td>V0400.jpg</td>\n",
       "      <td>0</td>\n",
       "      <td>941.87</td>\n",
       "      <td>849.01</td>\n",
       "    </tr>\n",
       "  </tbody>\n",
       "</table>\n",
       "<p>400 rows × 5 columns</p>\n",
       "</div>"
      ],
      "text/plain": [
       "      ID    ImgName Glaucoma_Label  Fovea_X  Fovea_Y\n",
       "0      1  V0001.jpg              0  1050.07   858.55\n",
       "1      2  V0002.jpg              0  1131.07   834.53\n",
       "2      3  V0003.jpg              0   867.01   838.64\n",
       "3      4  V0004.jpg              0  1113.65   877.35\n",
       "4      5  V0005.jpg              0  1138.70   841.77\n",
       "..   ...        ...            ...      ...      ...\n",
       "395  396  V0396.jpg              0  1144.06   835.20\n",
       "396  397  V0397.jpg              0  1155.05   835.16\n",
       "397  398  V0398.jpg              0  1130.76   865.07\n",
       "398  399  V0399.jpg              0  1032.00   999.50\n",
       "399  400  V0400.jpg              0   941.87   849.01\n",
       "\n",
       "[400 rows x 5 columns]"
      ]
     },
     "execution_count": 75,
     "metadata": {},
     "output_type": "execute_result"
    }
   ],
   "source": [
    "valid_dataframe"
   ]
  },
  {
   "cell_type": "markdown",
   "metadata": {},
   "source": [
    "### Image Loader"
   ]
  },
  {
   "cell_type": "markdown",
   "metadata": {},
   "source": [
    "我当然可以直接使用keras自带的图片生成器，它可以返回文件的类（也就是其所在文件夹的名字）以及这个图片本身的numpy格式（可以直接画成图）"
   ]
  },
  {
   "cell_type": "markdown",
   "metadata": {},
   "source": [
    "不过为了通用性和可重复使用，最好是能够写一个方程，直接读取单一文件夹/多重文件夹里面的文件名及文件自身"
   ]
  },
  {
   "cell_type": "markdown",
   "metadata": {},
   "source": [
    "#### 图片可以进行增殖，也可以保持原样"
   ]
  },
  {
   "cell_type": "code",
   "execution_count": 37,
   "metadata": {},
   "outputs": [],
   "source": [
    "#以下图片产生器可对图片进行扭曲增殖\n",
    "datagen = ImageDataGenerator(\n",
    "        rotation_range=40,\n",
    "        width_shift_range=0.2,\n",
    "        height_shift_range=0.2,\n",
    "        rescale=1./255,\n",
    "        shear_range=0.2,\n",
    "        zoom_range=0.2,\n",
    "        horizontal_flip=True,\n",
    "        fill_mode='nearest')"
   ]
  },
  {
   "cell_type": "code",
   "execution_count": 31,
   "metadata": {},
   "outputs": [],
   "source": [
    "#以下图片产生器不扭曲图片\n",
    "datagen_wo_aug = ImageDataGenerator(\n",
    "        rescale=1./255,\n",
    "        shear_range=0.2,\n",
    "        fill_mode='nearest')"
   ]
  },
  {
   "cell_type": "code",
   "execution_count": 44,
   "metadata": {},
   "outputs": [],
   "source": [
    "#以下图片产生器不扭曲图片\n",
    "valid_dataGen_wo_aug = ImageDataGenerator(\n",
    "        rescale=1./255,\n",
    "        shear_range=0.2,\n",
    "        fill_mode='nearest')"
   ]
  },
  {
   "cell_type": "code",
   "execution_count": 32,
   "metadata": {
    "scrolled": true
   },
   "outputs": [
    {
     "name": "stdout",
     "output_type": "stream",
     "text": [
      "Found 400 images belonging to 2 classes.\n"
     ]
    }
   ],
   "source": [
    "train_generator = datagen_wo_aug.flow_from_directory(\n",
    "        data_img_path,  # this is the target directory\n",
    "        target_size=(image_size, image_size),  # all images will be resized to 150x150\n",
    "        batch_size=batch_size,\n",
    "        class_mode='binary')  # since we use binary_crossentropy loss, we need binary labels"
   ]
  },
  {
   "cell_type": "markdown",
   "metadata": {},
   "source": [
    "不幸的是，validation和test数据都是用dataframe储存文件名和标签的，需要用以下方法生成图片："
   ]
  },
  {
   "cell_type": "code",
   "execution_count": 77,
   "metadata": {},
   "outputs": [
    {
     "name": "stdout",
     "output_type": "stream",
     "text": [
      "Found 400 validated image filenames belonging to 2 classes.\n"
     ]
    }
   ],
   "source": [
    "#train_generator = train_dataGen.flow_from_dataframe()\n",
    "#如果validation的标签不是以文件夹的形式而是单独的文件，就需要用别的方式读取\n",
    "#[https://www.tensorflow.org/api_docs/python/tf/keras/preprocessing/image/ImageDataGenerator#flow]\n",
    "valid_generator = valid_dataGen_wo_aug.flow_from_dataframe(\n",
    "                                        dataframe = valid_dataframe,\n",
    "                                        directory = valid_img_path,\n",
    "                                        x_col=\"ImgName\",\n",
    "                                        y_col=\"Glaucoma_Label\",\n",
    "                                        class_mode=\"binary\",\n",
    "                                        target_size=(128,128),\n",
    "                                        batch_size=32)"
   ]
  },
  {
   "cell_type": "code",
   "execution_count": 33,
   "metadata": {},
   "outputs": [
    {
     "data": {
      "text/plain": [
       "{'Glaucoma': 0, 'Non-Glaucoma': 1}"
      ]
     },
     "execution_count": 33,
     "metadata": {},
     "output_type": "execute_result"
    }
   ],
   "source": [
    "train_generator.class_indices"
   ]
  },
  {
   "cell_type": "code",
   "execution_count": 34,
   "metadata": {},
   "outputs": [],
   "source": [
    "batchX, batchy = train_generator.next()"
   ]
  },
  {
   "cell_type": "code",
   "execution_count": 35,
   "metadata": {},
   "outputs": [
    {
     "data": {
      "text/plain": [
       "<matplotlib.image.AxesImage at 0x29e9223ab48>"
      ]
     },
     "execution_count": 35,
     "metadata": {},
     "output_type": "execute_result"
    },
    {
     "data": {
      "image/png": "[encoded data removed]",
      "text/plain": [
       "<Figure size 432x288 with 1 Axes>"
      ]
     },
     "metadata": {
      "needs_background": "light"
     },
     "output_type": "display_data"
    }
   ],
   "source": [
    "pt.imshow(batchX[0])"
   ]
  },
  {
   "cell_type": "code",
   "execution_count": 40,
   "metadata": {},
   "outputs": [
    {
     "data": {
      "text/plain": [
       "1.0"
      ]
     },
     "execution_count": 40,
     "metadata": {},
     "output_type": "execute_result"
    }
   ],
   "source": [
    "batchy[0]"
   ]
  },
  {
   "cell_type": "code",
   "execution_count": 42,
   "metadata": {},
   "outputs": [
    {
     "data": {
      "text/plain": [
       "(32, 150, 150, 3)"
      ]
     },
     "execution_count": 42,
     "metadata": {},
     "output_type": "execute_result"
    }
   ],
   "source": [
    "batchX.shape#这个图片产生器里有32个图"
   ]
  },
  {
   "cell_type": "code",
   "execution_count": null,
   "metadata": {},
   "outputs": [],
   "source": []
  },
  {
   "cell_type": "markdown",
   "metadata": {},
   "source": [
    "### 其它的图片产生器"
   ]
  },
  {
   "cell_type": "markdown",
   "metadata": {},
   "source": [
    "#### m-net那家人的图片产生器是专门为多标签系统制作的，它返回([train_img], [img_mask, img_mask, img_mask, img_mask, img_mask])"
   ]
  },
  {
   "cell_type": "markdown",
   "metadata": {},
   "source": [
    "#### 其中前面一个[]是图片，后面[]里有5个mask都属于Unet的答案，也即mask"
   ]
  },
  {
   "cell_type": "markdown",
   "metadata": {},
   "source": [
    "#### 值得注意的是，这个train_loader一次只产生一个图片并返回"
   ]
  },
  {
   "cell_type": "markdown",
   "metadata": {},
   "source": [
    "只在一种情况下它可以正常工作，就是一次被调用很多次，比如一次调用32次产生32张图片。然而这不可能，它的while 1决定了它会一次性跑完400张图片"
   ]
  },
  {
   "cell_type": "markdown",
   "metadata": {},
   "source": [
    "与此同时，它里面每一个循环都会替换掉之前的图，最终只返回最后一张图"
   ]
  },
  {
   "cell_type": "markdown",
   "metadata": {},
   "source": [
    "它还有一种可能性是由fit_generator控制开和关，最终它总是产生前面几张图片"
   ]
  },
  {
   "cell_type": "code",
   "execution_count": null,
   "metadata": {},
   "outputs": [],
   "source": [
    "def train_loader(data_list, data_path, mask_path, input_size):\n",
    "    while 1:\n",
    "        for lineIdx, temp_txt in enumerate(data_list):\n",
    "            train_img = np.asarray(image.load_img(os.path.join(data_path, temp_txt),\n",
    "                                                  target_size=(input_size, input_size, 3))#这一行似乎只载入1张图片\n",
    "                                   ).astype('float32')\n",
    "            img_mask = np.asarray(\n",
    "                image.load_img(os.path.join(mask_path, temp_txt),\n",
    "                               target_size=(input_size, input_size, 3))\n",
    "            ) / 255.0\n",
    "\n",
    "            train_img = np.reshape(train_img, (1,) + train_img.shape)#如果这个是不断累加新的图片到原本的图片容器中，则返的yield=>\n",
    "            img_mask = np.reshape(img_mask, (1,) + img_mask.shape)\n",
    "            yield ([train_img], [img_mask, img_mask, img_mask, img_mask, img_mask])#=>返回的yield会越来越大，第一次为1张图片，第400次为400张图片"
   ]
  },
  {
   "cell_type": "code",
   "execution_count": 38,
   "metadata": {},
   "outputs": [],
   "source": [
    "import numpy as np"
   ]
  },
  {
   "cell_type": "code",
   "execution_count": null,
   "metadata": {},
   "outputs": [],
   "source": [
    "np.reshape()"
   ]
  },
  {
   "cell_type": "code",
   "execution_count": 39,
   "metadata": {},
   "outputs": [
    {
     "data": {
      "text/plain": [
       "(1, 150, 150, 3)"
      ]
     },
     "execution_count": 39,
     "metadata": {},
     "output_type": "execute_result"
    }
   ],
   "source": [
    "(1,)+(150,150,3)#两个turple相加得到一个图片的新shape，这等于说train_loader一次只产生一张图片"
   ]
  },
  {
   "cell_type": "code",
   "execution_count": null,
   "metadata": {},
   "outputs": [],
   "source": []
  }
 ],
 "metadata": {
  "kernelspec": {
   "display_name": "Python 3",
   "language": "python",
   "name": "python3"
  },
  "language_info": {
   "codemirror_mode": {
    "name": "ipython",
    "version": 3
   },
   "file_extension": ".py",
   "mimetype": "text/x-python",
   "name": "python",
   "nbconvert_exporter": "python",
   "pygments_lexer": "ipython3",
   "version": "3.7.7"
  }
 },
 "nbformat": 4,
 "nbformat_minor": 4
}
